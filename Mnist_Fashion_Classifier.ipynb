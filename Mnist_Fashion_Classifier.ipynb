{
  "nbformat": 4,
  "nbformat_minor": 0,
  "metadata": {
    "colab": {
      "name": "Mnist Fashion Classifier.ipynb",
      "version": "0.3.2",
      "provenance": [],
      "collapsed_sections": []
    },
    "kernelspec": {
      "name": "python3",
      "display_name": "Python 3"
    },
    "accelerator": "GPU"
  },
  "cells": [
    {
      "cell_type": "code",
      "metadata": {
        "id": "lkDqQyOCgw0J",
        "colab_type": "code",
        "colab": {}
      },
      "source": [
        "from keras.layers import *\n",
        "from keras.models import Sequential\n",
        "from keras.datasets import fashion_mnist\n",
        "from keras.utils import to_categorical"
      ],
      "execution_count": 0,
      "outputs": []
    },
    {
      "cell_type": "code",
      "metadata": {
        "id": "HXicNwjCicnd",
        "colab_type": "code",
        "colab": {}
      },
      "source": [
        "((XTrain,YTrain),(XTest,YTest))=fashion_mnist.load_data()"
      ],
      "execution_count": 0,
      "outputs": []
    },
    {
      "cell_type": "code",
      "metadata": {
        "id": "OnrINnO5i0xb",
        "colab_type": "code",
        "colab": {
          "base_uri": "https://localhost:8080/",
          "height": 34
        },
        "outputId": "cdb599ce-2bcd-4d44-e06c-e656ec1feea3"
      },
      "source": [
        "print(XTrain.shape)"
      ],
      "execution_count": 15,
      "outputs": [
        {
          "output_type": "stream",
          "text": [
            "(60000, 28, 28)\n"
          ],
          "name": "stdout"
        }
      ]
    },
    {
      "cell_type": "code",
      "metadata": {
        "id": "ILT2ZTgSjBNb",
        "colab_type": "code",
        "colab": {}
      },
      "source": [
        "def preprocess(X,Y):\n",
        "  X=X.reshape((-1,28,28,1)) # 1st argument accepts number of examples and if u r not sureu can give -1\n",
        "  X=X/255.0\n",
        "  Y=to_categorical(Y)\n",
        "  return X,Y"
      ],
      "execution_count": 0,
      "outputs": []
    },
    {
      "cell_type": "code",
      "metadata": {
        "id": "r0evGRWRjVGQ",
        "colab_type": "code",
        "colab": {}
      },
      "source": [
        "XTrain,YTrain=preprocess(XTrain,YTrain)"
      ],
      "execution_count": 0,
      "outputs": []
    },
    {
      "cell_type": "code",
      "metadata": {
        "id": "irMnL_w0jW9z",
        "colab_type": "code",
        "colab": {
          "base_uri": "https://localhost:8080/",
          "height": 34
        },
        "outputId": "f7581a70-3c2f-477f-eb6b-319ef444c2b4"
      },
      "source": [
        "print(XTrain.shape,YTrain.shape)"
      ],
      "execution_count": 18,
      "outputs": [
        {
          "output_type": "stream",
          "text": [
            "(60000, 28, 28, 1) (60000, 10)\n"
          ],
          "name": "stdout"
        }
      ]
    },
    {
      "cell_type": "markdown",
      "metadata": {
        "id": "1az0Ir-PkKDo",
        "colab_type": "text"
      },
      "source": [
        "Network Architecture"
      ]
    },
    {
      "cell_type": "code",
      "metadata": {
        "id": "5NjKxngokFTV",
        "colab_type": "code",
        "colab": {}
      },
      "source": [
        "# Convolution and Pooling Layers\n",
        "model=Sequential()\n",
        "model.add(Conv2D(32,(3,3),activation='relu',input_shape=(28,28,1)))\n",
        "model.add(MaxPool2D((2,2)))\n",
        "model.add(Conv2D(64,(3,3),activation='relu',input_shape=(28,28,1)))\n",
        "model.add(MaxPool2D((2,2)))\n",
        "model.add(Conv2D(64,(3,3),activation='relu',input_shape=(28,28,1)))\n",
        "model.add(MaxPool2D((2,2)))\n",
        "# Fully Connected Layers\n",
        "model.add(Flatten())\n",
        "model.add(Dense(64,activation='relu'))\n",
        "model.add(Dense(10,activation='sigmoid'))"
      ],
      "execution_count": 0,
      "outputs": []
    },
    {
      "cell_type": "code",
      "metadata": {
        "id": "x3md-q7fkSGi",
        "colab_type": "code",
        "colab": {}
      },
      "source": [
        "model.compile(optimizer='adam',loss='categorical_crossentropy',metrics=['accuracy'])"
      ],
      "execution_count": 0,
      "outputs": []
    },
    {
      "cell_type": "code",
      "metadata": {
        "id": "FDfs6AOFkgRe",
        "colab_type": "code",
        "colab": {
          "base_uri": "https://localhost:8080/",
          "height": 790
        },
        "outputId": "338e406b-f6d7-4012-deee-be15f7af255a"
      },
      "source": [
        "# Training\n",
        "model.fit(XTrain,YTrain,batch_size=128,epochs=22,validation_split=0.1)\n"
      ],
      "execution_count": 21,
      "outputs": [
        {
          "output_type": "stream",
          "text": [
            "Train on 54000 samples, validate on 6000 samples\n",
            "Epoch 1/22\n",
            "54000/54000 [==============================] - 3s 57us/step - loss: 0.7981 - acc: 0.7076 - val_loss: 0.5640 - val_acc: 0.7957\n",
            "Epoch 2/22\n",
            "54000/54000 [==============================] - 3s 46us/step - loss: 0.5261 - acc: 0.8112 - val_loss: 0.4874 - val_acc: 0.8255\n",
            "Epoch 3/22\n",
            "54000/54000 [==============================] - 3s 47us/step - loss: 0.4615 - acc: 0.8350 - val_loss: 0.4786 - val_acc: 0.8262\n",
            "Epoch 4/22\n",
            "54000/54000 [==============================] - 3s 46us/step - loss: 0.4255 - acc: 0.8466 - val_loss: 0.4366 - val_acc: 0.8438\n",
            "Epoch 5/22\n",
            "54000/54000 [==============================] - 3s 47us/step - loss: 0.3988 - acc: 0.8561 - val_loss: 0.3909 - val_acc: 0.8613\n",
            "Epoch 6/22\n",
            "54000/54000 [==============================] - 3s 47us/step - loss: 0.3773 - acc: 0.8635 - val_loss: 0.3932 - val_acc: 0.8598\n",
            "Epoch 7/22\n",
            "54000/54000 [==============================] - 3s 47us/step - loss: 0.3571 - acc: 0.8713 - val_loss: 0.3737 - val_acc: 0.8667\n",
            "Epoch 8/22\n",
            "54000/54000 [==============================] - 3s 47us/step - loss: 0.3377 - acc: 0.8771 - val_loss: 0.3530 - val_acc: 0.8735\n",
            "Epoch 9/22\n",
            "54000/54000 [==============================] - 2s 46us/step - loss: 0.3210 - acc: 0.8824 - val_loss: 0.3449 - val_acc: 0.8785\n",
            "Epoch 10/22\n",
            "54000/54000 [==============================] - 3s 47us/step - loss: 0.3096 - acc: 0.8870 - val_loss: 0.3244 - val_acc: 0.8840\n",
            "Epoch 11/22\n",
            "54000/54000 [==============================] - 3s 47us/step - loss: 0.2938 - acc: 0.8923 - val_loss: 0.3299 - val_acc: 0.8817\n",
            "Epoch 12/22\n",
            "54000/54000 [==============================] - 3s 46us/step - loss: 0.2829 - acc: 0.8957 - val_loss: 0.3232 - val_acc: 0.8823\n",
            "Epoch 13/22\n",
            "54000/54000 [==============================] - 2s 46us/step - loss: 0.2691 - acc: 0.9000 - val_loss: 0.3179 - val_acc: 0.8870\n",
            "Epoch 14/22\n",
            "54000/54000 [==============================] - 3s 47us/step - loss: 0.2607 - acc: 0.9033 - val_loss: 0.3415 - val_acc: 0.8775\n",
            "Epoch 15/22\n",
            "54000/54000 [==============================] - 3s 47us/step - loss: 0.2498 - acc: 0.9076 - val_loss: 0.3111 - val_acc: 0.8883\n",
            "Epoch 16/22\n",
            "54000/54000 [==============================] - 3s 46us/step - loss: 0.2386 - acc: 0.9120 - val_loss: 0.3083 - val_acc: 0.8905\n",
            "Epoch 17/22\n",
            "54000/54000 [==============================] - 2s 46us/step - loss: 0.2320 - acc: 0.9144 - val_loss: 0.3503 - val_acc: 0.8775\n",
            "Epoch 18/22\n",
            "54000/54000 [==============================] - 3s 46us/step - loss: 0.2209 - acc: 0.9184 - val_loss: 0.3037 - val_acc: 0.8930\n",
            "Epoch 19/22\n",
            "54000/54000 [==============================] - 3s 47us/step - loss: 0.2102 - acc: 0.9217 - val_loss: 0.3243 - val_acc: 0.8887\n",
            "Epoch 20/22\n",
            "54000/54000 [==============================] - 2s 46us/step - loss: 0.2038 - acc: 0.9249 - val_loss: 0.3131 - val_acc: 0.8945\n",
            "Epoch 21/22\n",
            "54000/54000 [==============================] - 2s 46us/step - loss: 0.1957 - acc: 0.9271 - val_loss: 0.3394 - val_acc: 0.8833\n",
            "Epoch 22/22\n",
            "54000/54000 [==============================] - 2s 46us/step - loss: 0.1859 - acc: 0.9327 - val_loss: 0.3110 - val_acc: 0.8940\n"
          ],
          "name": "stdout"
        },
        {
          "output_type": "execute_result",
          "data": {
            "text/plain": [
              "<keras.callbacks.History at 0x7ffb10307278>"
            ]
          },
          "metadata": {
            "tags": []
          },
          "execution_count": 21
        }
      ]
    },
    {
      "cell_type": "code",
      "metadata": {
        "id": "LD9PVdqsmVa2",
        "colab_type": "code",
        "colab": {
          "base_uri": "https://localhost:8080/",
          "height": 50
        },
        "outputId": "72cac507-39b5-4340-fe67-aa4e5d5fd6df"
      },
      "source": [
        "XTest,YTest=preprocess(XTest,YTest)\n",
        "model.evaluate(XTest,YTest)"
      ],
      "execution_count": 23,
      "outputs": [
        {
          "output_type": "stream",
          "text": [
            "10000/10000 [==============================] - 1s 59us/step\n"
          ],
          "name": "stdout"
        },
        {
          "output_type": "execute_result",
          "data": {
            "text/plain": [
              "[0.33460399962067605, 0.8886]"
            ]
          },
          "metadata": {
            "tags": []
          },
          "execution_count": 23
        }
      ]
    },
    {
      "cell_type": "code",
      "metadata": {
        "id": "Pv5TnXPonziq",
        "colab_type": "code",
        "colab": {}
      },
      "source": [
        ""
      ],
      "execution_count": 0,
      "outputs": []
    }
  ]
}