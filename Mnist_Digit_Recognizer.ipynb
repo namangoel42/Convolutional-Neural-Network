{
  "nbformat": 4,
  "nbformat_minor": 0,
  "metadata": {
    "colab": {
      "name": "Mnist Digit Recognizer.ipynb",
      "version": "0.3.2",
      "provenance": [],
      "collapsed_sections": []
    },
    "kernelspec": {
      "name": "python3",
      "display_name": "Python 3"
    },
    "accelerator": "GPU"
  },
  "cells": [
    {
      "cell_type": "code",
      "metadata": {
        "id": "aEJff6HvNk8O",
        "colab_type": "code",
        "colab": {}
      },
      "source": [
        "from keras.layers import *\n",
        "from keras.models import Sequential"
      ],
      "execution_count": 0,
      "outputs": []
    },
    {
      "cell_type": "markdown",
      "metadata": {
        "id": "tgzHV8MeOJUN",
        "colab_type": "text"
      },
      "source": [
        "Network Architecture"
      ]
    },
    {
      "cell_type": "code",
      "metadata": {
        "id": "FzYakzyFONTM",
        "colab_type": "code",
        "colab": {}
      },
      "source": [
        "# Convolutional and Pooling Layers\n",
        "model=Sequential()\n",
        "model.add(Conv2D(32,(3,3),activation='relu',input_shape=(28,28,1)))\n",
        "model.add(MaxPool2D((2,2)))\n",
        "model.add(Conv2D(64,(3,3),activation='relu',input_shape=(28,28,1)))\n",
        "model.add(MaxPool2D((2,2)))\n",
        "model.add(Conv2D(64,(3,3),activation='relu',input_shape=(28,28,1)))\n",
        "model.add(MaxPool2D((2,2)))\n",
        "# It generates a volume which needs to be flattened in order to feed into fully connected network\n",
        "model.add(Flatten())\n",
        "model.add(Dense(64,activation='relu'))\n",
        "model.add(Dense(10,activation='sigmoid'))"
      ],
      "execution_count": 0,
      "outputs": []
    },
    {
      "cell_type": "markdown",
      "metadata": {
        "id": "daanH9DBV-E8",
        "colab_type": "text"
      },
      "source": [
        "Data Generation"
      ]
    },
    {
      "cell_type": "code",
      "metadata": {
        "id": "fwaAE0n_OR4n",
        "colab_type": "code",
        "colab": {}
      },
      "source": [
        "# Dataset\n",
        "from keras.datasets import mnist\n",
        "# One hot Vector\n",
        "from keras.utils import to_categorical\n",
        "import matplotlib.pyplot as plt"
      ],
      "execution_count": 0,
      "outputs": []
    },
    {
      "cell_type": "code",
      "metadata": {
        "id": "OkNbBi54U9DF",
        "colab_type": "code",
        "colab": {}
      },
      "source": [
        "(XTrain,YTrain),(XTest,YTest)=mnist.load_data()"
      ],
      "execution_count": 0,
      "outputs": []
    },
    {
      "cell_type": "code",
      "metadata": {
        "id": "Qk07yNJwWppE",
        "colab_type": "code",
        "colab": {}
      },
      "source": [
        "def preprocess(X,Y):\n",
        "  X=X.reshape(-1,28,28,1)\n",
        "  X=X/255.0\n",
        "  Y=to_categorical(Y)\n",
        "  return X,Y"
      ],
      "execution_count": 0,
      "outputs": []
    },
    {
      "cell_type": "code",
      "metadata": {
        "id": "VHzRzpDlWwP5",
        "colab_type": "code",
        "colab": {
          "base_uri": "https://localhost:8080/",
          "height": 50
        },
        "outputId": "7b02ec20-bc36-42e0-c587-8ed9effdeef8"
      },
      "source": [
        "XTrain,YTrain=preprocess(XTrain,YTrain)\n",
        "print(XTrain.shape,YTrain.shape)\n",
        "XTest,YTest=preprocess(XTest,YTest)\n",
        "print(XTest.shape,YTest.shape)"
      ],
      "execution_count": 21,
      "outputs": [
        {
          "output_type": "stream",
          "text": [
            "(60000, 28, 28, 1) (60000, 10)\n",
            "(10000, 28, 28, 1) (10000, 10)\n"
          ],
          "name": "stdout"
        }
      ]
    },
    {
      "cell_type": "code",
      "metadata": {
        "id": "_yJ_OgkCYpfv",
        "colab_type": "code",
        "colab": {}
      },
      "source": [
        "# Final Compilation\n",
        "model.compile(optimizer='adam',loss='categorical_crossentropy',metrics=['accuracy'])"
      ],
      "execution_count": 0,
      "outputs": []
    },
    {
      "cell_type": "code",
      "metadata": {
        "id": "HG7vBpFvZR6-",
        "colab_type": "code",
        "colab": {
          "base_uri": "https://localhost:8080/",
          "height": 722
        },
        "outputId": "832edd08-69c1-4bc2-c630-e793b57b7a36"
      },
      "source": [
        "# Training\n",
        "model.fit(XTrain,YTrain,epochs=20,batch_size=128,validation_split=0.1)"
      ],
      "execution_count": 23,
      "outputs": [
        {
          "output_type": "stream",
          "text": [
            "Train on 54000 samples, validate on 6000 samples\n",
            "Epoch 1/20\n",
            "54000/54000 [==============================] - 3s 58us/step - loss: 0.4160 - acc: 0.8744 - val_loss: 0.1189 - val_acc: 0.9665\n",
            "Epoch 2/20\n",
            "54000/54000 [==============================] - 3s 48us/step - loss: 0.1172 - acc: 0.9643 - val_loss: 0.0874 - val_acc: 0.9750\n",
            "Epoch 3/20\n",
            "54000/54000 [==============================] - 3s 48us/step - loss: 0.0836 - acc: 0.9747 - val_loss: 0.0647 - val_acc: 0.9808\n",
            "Epoch 4/20\n",
            "54000/54000 [==============================] - 3s 48us/step - loss: 0.0668 - acc: 0.9804 - val_loss: 0.0546 - val_acc: 0.9843\n",
            "Epoch 5/20\n",
            "54000/54000 [==============================] - 3s 48us/step - loss: 0.0566 - acc: 0.9832 - val_loss: 0.0532 - val_acc: 0.9847\n",
            "Epoch 6/20\n",
            "54000/54000 [==============================] - 3s 49us/step - loss: 0.0477 - acc: 0.9854 - val_loss: 0.0552 - val_acc: 0.9858\n",
            "Epoch 7/20\n",
            "54000/54000 [==============================] - 3s 48us/step - loss: 0.0397 - acc: 0.9876 - val_loss: 0.0430 - val_acc: 0.9870\n",
            "Epoch 8/20\n",
            "54000/54000 [==============================] - 3s 48us/step - loss: 0.0368 - acc: 0.9884 - val_loss: 0.0510 - val_acc: 0.9837\n",
            "Epoch 9/20\n",
            "54000/54000 [==============================] - 3s 48us/step - loss: 0.0326 - acc: 0.9901 - val_loss: 0.0411 - val_acc: 0.9893\n",
            "Epoch 10/20\n",
            "54000/54000 [==============================] - 3s 48us/step - loss: 1.3736 - acc: 0.4615 - val_loss: 2.3026 - val_acc: 0.0978\n",
            "Epoch 11/20\n",
            "54000/54000 [==============================] - 3s 48us/step - loss: 2.3026 - acc: 0.0988 - val_loss: 2.3026 - val_acc: 0.0978\n",
            "Epoch 12/20\n",
            "54000/54000 [==============================] - 3s 49us/step - loss: 2.3026 - acc: 0.0988 - val_loss: 2.3026 - val_acc: 0.0978\n",
            "Epoch 13/20\n",
            "54000/54000 [==============================] - 3s 49us/step - loss: 2.3026 - acc: 0.0988 - val_loss: 2.3026 - val_acc: 0.0978\n",
            "Epoch 14/20\n",
            "54000/54000 [==============================] - 3s 49us/step - loss: 2.3026 - acc: 0.0988 - val_loss: 2.3026 - val_acc: 0.0978\n",
            "Epoch 15/20\n",
            "54000/54000 [==============================] - 3s 49us/step - loss: 2.3026 - acc: 0.0988 - val_loss: 2.3026 - val_acc: 0.0978\n",
            "Epoch 16/20\n",
            "54000/54000 [==============================] - 3s 49us/step - loss: 2.3026 - acc: 0.0988 - val_loss: 2.3026 - val_acc: 0.0978\n",
            "Epoch 17/20\n",
            "54000/54000 [==============================] - 3s 48us/step - loss: 2.3026 - acc: 0.0988 - val_loss: 2.3026 - val_acc: 0.0978\n",
            "Epoch 18/20\n",
            "54000/54000 [==============================] - 3s 49us/step - loss: 2.3026 - acc: 0.0988 - val_loss: 2.3026 - val_acc: 0.0978\n",
            "Epoch 19/20\n",
            "54000/54000 [==============================] - 3s 48us/step - loss: 2.3026 - acc: 0.0988 - val_loss: 2.3026 - val_acc: 0.0978\n",
            "Epoch 20/20\n",
            "54000/54000 [==============================] - 3s 48us/step - loss: 2.3026 - acc: 0.0988 - val_loss: 2.3026 - val_acc: 0.0978\n"
          ],
          "name": "stdout"
        },
        {
          "output_type": "execute_result",
          "data": {
            "text/plain": [
              "<keras.callbacks.History at 0x7f00a1ebf470>"
            ]
          },
          "metadata": {
            "tags": []
          },
          "execution_count": 23
        }
      ]
    },
    {
      "cell_type": "code",
      "metadata": {
        "id": "3mcKUj_JaGbz",
        "colab_type": "code",
        "colab": {
          "base_uri": "https://localhost:8080/",
          "height": 50
        },
        "outputId": "e7b99920-9056-4bcd-c37b-6c3e3bf2f31c"
      },
      "source": [
        "model.evaluate(XTest,YTest)"
      ],
      "execution_count": 24,
      "outputs": [
        {
          "output_type": "stream",
          "text": [
            "10000/10000 [==============================] - 1s 58us/step\n"
          ],
          "name": "stdout"
        },
        {
          "output_type": "execute_result",
          "data": {
            "text/plain": [
              "[2.3025851249694824, 0.098]"
            ]
          },
          "metadata": {
            "tags": []
          },
          "execution_count": 24
        }
      ]
    },
    {
      "cell_type": "code",
      "metadata": {
        "id": "ZJbNGuq-cxf9",
        "colab_type": "code",
        "colab": {}
      },
      "source": [
        ""
      ],
      "execution_count": 0,
      "outputs": []
    }
  ]
}